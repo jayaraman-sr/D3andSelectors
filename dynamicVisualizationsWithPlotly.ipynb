{
 "cells": [
  {
   "cell_type": "code",
   "execution_count": 1,
   "metadata": {},
   "outputs": [
    {
     "data": {
      "text/html": [
       "<script type=\"text/javascript\">window.PlotlyConfig = {MathJaxConfig: 'local'};</script><script type=\"text/javascript\">if (window.MathJax) {MathJax.Hub.Config({SVG: {font: \"STIX-Web\"}});}</script><script>requirejs.config({paths: { 'plotly': ['https://cdn.plot.ly/plotly-latest.min']},});if(!window._Plotly) {require(['plotly'],function(plotly) {window._Plotly=plotly;});}</script>"
      ],
      "text/vnd.plotly.v1+html": [
       "<script type=\"text/javascript\">window.PlotlyConfig = {MathJaxConfig: 'local'};</script><script type=\"text/javascript\">if (window.MathJax) {MathJax.Hub.Config({SVG: {font: \"STIX-Web\"}});}</script><script>requirejs.config({paths: { 'plotly': ['https://cdn.plot.ly/plotly-latest.min']},});if(!window._Plotly) {require(['plotly'],function(plotly) {window._Plotly=plotly;});}</script>"
      ]
     },
     "metadata": {},
     "output_type": "display_data"
    }
   ],
   "source": [
    "import pandas as pd\n",
    "import plotly\n",
    "from plotly.offline import download_plotlyjs, init_notebook_mode, plot, iplot\n",
    "import plotly.plotly as py\n",
    "import plotly.graph_objs as go\n",
    "\n",
    "plotly.offline.init_notebook_mode(connected=True)\n"
   ]
  },
  {
   "cell_type": "code",
   "execution_count": 2,
   "metadata": {},
   "outputs": [
    {
     "name": "stdout",
     "output_type": "stream",
     "text": [
      "Number of data points: 851264\n",
      "date 3524\n",
      "symbol 501\n",
      "open 72707\n",
      "close 73628\n",
      "low 72900\n",
      "high 73299\n",
      "volume 171073\n"
     ]
    }
   ],
   "source": [
    "df = pd.read_csv('prices.csv')\n",
    "\n",
    "print(\"Number of data points:\", df.shape[0])\n",
    "\n",
    "#Get unique values in each column\n",
    "for value in df.columns:\n",
    "    print(value, len(set(df[value])))"
   ]
  },
  {
   "cell_type": "markdown",
   "metadata": {},
   "source": [
    "# 4."
   ]
  },
  {
   "cell_type": "markdown",
   "metadata": {},
   "source": [
    "The Unique number of values in each column is less than the the total number of data points tellikng us that there is no single unique feature that can distinguish every data point.So none of the columns can be considered as a key. But by looking at the data date and symbol considered together can be used as a key to the dataset.(The other featuresopen, close, low, high and volume are continous features are hence are not considered as keys)"
   ]
  },
  {
   "cell_type": "markdown",
   "metadata": {},
   "source": [
    "# 5."
   ]
  },
  {
   "cell_type": "markdown",
   "metadata": {},
   "source": [
    "The Task I have chosen is to see how yahoo stocks are trending over a period of time and also get some additional information such as the close, open high and low from the plot.\n",
    "\n",
    "The data can be considered as a time series one. So the user would also want to see the price at a particular date. "
   ]
  },
  {
   "cell_type": "code",
   "execution_count": 3,
   "metadata": {},
   "outputs": [],
   "source": [
    "yahoo_only = df[df[\"symbol\"] == \"YHOO\"]"
   ]
  },
  {
   "cell_type": "markdown",
   "metadata": {},
   "source": [
    "# 6. and 7."
   ]
  },
  {
   "cell_type": "code",
   "execution_count": 4,
   "metadata": {},
   "outputs": [],
   "source": [
    "yahoo_high = go.Scatter(x=list(yahoo_only.date), y=list(yahoo_only.high), name='High', line=dict(color='#33CFA5'))\n",
    "yahoo_low = go.Scatter(x=list(yahoo_only.date), y=list(yahoo_only.low), name='Low', line=dict(color='#F06A6A'))\n",
    "yahoo_open = go.Scatter(x=list(yahoo_only.date), y=list(yahoo_only.open), name='Open', line=dict(color='#000000'))\n",
    "yahoo_close =go.Scatter(x=list(yahoo_only.date), y=list(yahoo_only.close), name='Close', line=dict(color='#F3CFB8'))"
   ]
  },
  {
   "cell_type": "code",
   "execution_count": 5,
   "metadata": {},
   "outputs": [
    {
     "name": "stderr",
     "output_type": "stream",
     "text": [
      "/usr/local/lib/python3.6/dist-packages/IPython/core/display.py:689: UserWarning:\n",
      "\n",
      "Consider using IPython.display.IFrame instead\n",
      "\n"
     ]
    },
    {
     "data": {
      "text/html": [
       "<iframe id=\"igraph\" scrolling=\"no\" style=\"border:none;\" seamless=\"seamless\" src=\"https://plot.ly/~sriram.jove/52.embed\" height=\"525px\" width=\"100%\"></iframe>"
      ],
      "text/plain": [
       "<plotly.tools.PlotlyDisplay object>"
      ]
     },
     "execution_count": 5,
     "metadata": {},
     "output_type": "execute_result"
    }
   ],
   "source": [
    "data = [yahoo_high, yahoo_low, yahoo_open, yahoo_close]\n",
    "layout = go.Layout(\n",
    "    title='Yahoo price trend',\n",
    "    xaxis=dict(\n",
    "        title='Date',\n",
    "        titlefont=dict(\n",
    "            family='Courier New, monospace',\n",
    "            size=18,\n",
    "            color='#7f7f7f'\n",
    "        )\n",
    "    ),\n",
    "    yaxis=dict(\n",
    "        title='value',\n",
    "        titlefont=dict(\n",
    "            family='Courier New, monospace',\n",
    "            size=18,\n",
    "            color='#7f7f7f'\n",
    "        )\n",
    "    )\n",
    ")\n",
    "fig = dict(data=data,layout=layout)\n",
    "py.iplot(fig)"
   ]
  },
  {
   "cell_type": "markdown",
   "metadata": {},
   "source": [
    "Date can be used as a key since we are choosing only one company and it uniquely distinguishes every row in the Yahoo_only data frame. Line is the mark. Position is a channel to represent the how prices vary during time. Color is also a channel to to distinguish the lines(High, low, open, close). When the mouse is hovered over the graph, the prices are annotated. It makes sense to do it this way so that it does make the visualization too complicated with lots of values and cluttered."
   ]
  },
  {
   "cell_type": "code",
   "execution_count": 6,
   "metadata": {
    "scrolled": true
   },
   "outputs": [
    {
     "data": {
      "text/html": [
       "<iframe id=\"igraph\" scrolling=\"no\" style=\"border:none;\" seamless=\"seamless\" src=\"https://plot.ly/~sriram.jove/54.embed\" height=\"525px\" width=\"100%\"></iframe>"
      ],
      "text/plain": [
       "<plotly.tools.PlotlyDisplay object>"
      ]
     },
     "execution_count": 6,
     "metadata": {},
     "output_type": "execute_result"
    }
   ],
   "source": [
    "yahoo_high = go.Scatter(x=list(yahoo_only.date), y=list(yahoo_only.high), name='High', line=dict(color='#33CFA5'))\n",
    "yahoo_low = go.Scatter(x=list(yahoo_only.date), y=list(yahoo_only.low), name='Low', line=dict(color='#F06A6A'))\n",
    "yahoo_open = go.Scatter(x=list(yahoo_only.date), y=list(yahoo_only.open), name='Open', line=dict(color='#000000'))\n",
    "yahoo_close =go.Scatter(x=list(yahoo_only.date), y=list(yahoo_only.close), name='Close', line=dict(color='#F3CFB8'))\n",
    "\n",
    "data = [yahoo_high, yahoo_low, yahoo_open, yahoo_close]\n",
    "\n",
    "layout = dict(\n",
    "    title='Yahoo price trend',\n",
    "    xaxis=dict(\n",
    "        title='Date',\n",
    "            rangeselector=dict(\n",
    "             buttons=list([\n",
    "                dict(count=1,\n",
    "                     label='1m',\n",
    "                     step='month',\n",
    "                     stepmode='backward'),\n",
    "                dict(count=6,\n",
    "                     label='6m',\n",
    "                     step='month',\n",
    "                     stepmode='backward'),\n",
    "                dict(step='all')\n",
    "            ])\n",
    "        ),\n",
    "        rangeslider=dict(\n",
    "            visible = True\n",
    "        ),\n",
    "        type='date'\n",
    "    )\n",
    ")\n",
    "\n",
    "fig = dict(data=data, layout=layout)\n",
    "py.iplot(fig)"
   ]
  },
  {
   "cell_type": "markdown",
   "metadata": {},
   "source": [
    "This is plot is similar to the previous one but has a range slider. \n",
    "Same as before, it uses line as a mark and color and position as channels. \n",
    "The previous plot gives an general idea of the trend where as in this plot, the prices can be seen for a particular day with the help of the range slider. The hover over option helps in getting the exact value for interpretting results.\n",
    "\n",
    "Interesting insights: The stock value of Yahoo peaked in september 2014 and seems to have dropped and is dropping considerable since then. This suggests that some event took place at the end of 2014 and Yahoo has not been the same since. So probably not a very good option to put your money on if trading in huge volumes."
   ]
  }
 ],
 "metadata": {
  "kernelspec": {
   "display_name": "Python 3",
   "language": "python",
   "name": "python3"
  },
  "language_info": {
   "codemirror_mode": {
    "name": "ipython",
    "version": 3
   },
   "file_extension": ".py",
   "mimetype": "text/x-python",
   "name": "python",
   "nbconvert_exporter": "python",
   "pygments_lexer": "ipython3",
   "version": "3.6.7"
  }
 },
 "nbformat": 4,
 "nbformat_minor": 2
}
